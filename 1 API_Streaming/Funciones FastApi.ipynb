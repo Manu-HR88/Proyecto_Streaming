{
 "cells": [
  {
   "attachments": {},
   "cell_type": "markdown",
   "metadata": {},
   "source": [
    "# Funciones FASTAPI "
   ]
  },
  {
   "attachments": {},
   "cell_type": "markdown",
   "metadata": {},
   "source": [
    "## Este archivo contiene las funciones finales utilizadas en FASTAPI\n",
    "\n",
    "Puede servir para documentar el readme final para la entrega. Se puede basar en el archivo funciones ya que de ahí se tomó la idea aunque en el camino fue necesario ajustarlo para que funcionara en FASTAPI."
   ]
  },
  {
   "cell_type": "code",
   "execution_count": 1,
   "metadata": {},
   "outputs": [],
   "source": [
    "import pandas as pd"
   ]
  },
  {
   "cell_type": "code",
   "execution_count": 2,
   "metadata": {},
   "outputs": [
    {
     "data": {
      "text/html": [
       "<div>\n",
       "<style scoped>\n",
       "    .dataframe tbody tr th:only-of-type {\n",
       "        vertical-align: middle;\n",
       "    }\n",
       "\n",
       "    .dataframe tbody tr th {\n",
       "        vertical-align: top;\n",
       "    }\n",
       "\n",
       "    .dataframe thead th {\n",
       "        text-align: right;\n",
       "    }\n",
       "</style>\n",
       "<table border=\"1\" class=\"dataframe\">\n",
       "  <thead>\n",
       "    <tr style=\"text-align: right;\">\n",
       "      <th></th>\n",
       "      <th>movieId</th>\n",
       "      <th>platform</th>\n",
       "      <th>type</th>\n",
       "      <th>title</th>\n",
       "      <th>director</th>\n",
       "      <th>cast</th>\n",
       "      <th>country</th>\n",
       "      <th>date_added</th>\n",
       "      <th>release_year</th>\n",
       "      <th>clasificacion</th>\n",
       "      <th>listed_in</th>\n",
       "      <th>description</th>\n",
       "      <th>duration_int</th>\n",
       "      <th>duration_type</th>\n",
       "      <th>rating</th>\n",
       "    </tr>\n",
       "  </thead>\n",
       "  <tbody>\n",
       "    <tr>\n",
       "      <th>0</th>\n",
       "      <td>as1</td>\n",
       "      <td>amazon</td>\n",
       "      <td>movie</td>\n",
       "      <td>the grand seduction</td>\n",
       "      <td>don mckellar</td>\n",
       "      <td>brendan gleeson, taylor kitsch, gordon pinsent</td>\n",
       "      <td>canada</td>\n",
       "      <td>2021-03-30</td>\n",
       "      <td>2014</td>\n",
       "      <td>g</td>\n",
       "      <td>comedy, drama</td>\n",
       "      <td>a small fishing village must procure a local d...</td>\n",
       "      <td>113</td>\n",
       "      <td>min</td>\n",
       "      <td>3.5</td>\n",
       "    </tr>\n",
       "    <tr>\n",
       "      <th>1</th>\n",
       "      <td>as2</td>\n",
       "      <td>amazon</td>\n",
       "      <td>movie</td>\n",
       "      <td>take care good night</td>\n",
       "      <td>girish joshi</td>\n",
       "      <td>mahesh manjrekar, abhay mahajan, sachin khedekar</td>\n",
       "      <td>india</td>\n",
       "      <td>2021-03-30</td>\n",
       "      <td>2018</td>\n",
       "      <td>13+</td>\n",
       "      <td>drama, international</td>\n",
       "      <td>a metro family decides to fight a cyber crimin...</td>\n",
       "      <td>110</td>\n",
       "      <td>min</td>\n",
       "      <td>3.5</td>\n",
       "    </tr>\n",
       "    <tr>\n",
       "      <th>2</th>\n",
       "      <td>as3</td>\n",
       "      <td>amazon</td>\n",
       "      <td>movie</td>\n",
       "      <td>secrets of deception</td>\n",
       "      <td>josh webber</td>\n",
       "      <td>tom sizemore, lorenzo lamas, robert lasardo, r...</td>\n",
       "      <td>united states</td>\n",
       "      <td>2021-03-30</td>\n",
       "      <td>2017</td>\n",
       "      <td>g</td>\n",
       "      <td>action, drama, suspense</td>\n",
       "      <td>after a man discovers his wife is cheating on ...</td>\n",
       "      <td>74</td>\n",
       "      <td>min</td>\n",
       "      <td>3.5</td>\n",
       "    </tr>\n",
       "    <tr>\n",
       "      <th>3</th>\n",
       "      <td>as4</td>\n",
       "      <td>amazon</td>\n",
       "      <td>movie</td>\n",
       "      <td>pink: staying true</td>\n",
       "      <td>sonia anderson</td>\n",
       "      <td>interviews with: pink, adele, beyoncé, britney...</td>\n",
       "      <td>united states</td>\n",
       "      <td>2021-03-30</td>\n",
       "      <td>2014</td>\n",
       "      <td>g</td>\n",
       "      <td>documentary</td>\n",
       "      <td>pink breaks the mold once again, bringing her ...</td>\n",
       "      <td>69</td>\n",
       "      <td>min</td>\n",
       "      <td>3.5</td>\n",
       "    </tr>\n",
       "    <tr>\n",
       "      <th>4</th>\n",
       "      <td>as5</td>\n",
       "      <td>amazon</td>\n",
       "      <td>movie</td>\n",
       "      <td>monster maker</td>\n",
       "      <td>giles foster</td>\n",
       "      <td>harry dean stanton, kieran o'brien, george cos...</td>\n",
       "      <td>united kingdom</td>\n",
       "      <td>2021-03-30</td>\n",
       "      <td>1989</td>\n",
       "      <td>g</td>\n",
       "      <td>drama, fantasy</td>\n",
       "      <td>teenage matt banting wants to work with a famo...</td>\n",
       "      <td>45</td>\n",
       "      <td>min</td>\n",
       "      <td>3.5</td>\n",
       "    </tr>\n",
       "  </tbody>\n",
       "</table>\n",
       "</div>"
      ],
      "text/plain": [
       "  movieId platform   type                 title        director  \\\n",
       "0     as1   amazon  movie   the grand seduction    don mckellar   \n",
       "1     as2   amazon  movie  take care good night    girish joshi   \n",
       "2     as3   amazon  movie  secrets of deception     josh webber   \n",
       "3     as4   amazon  movie    pink: staying true  sonia anderson   \n",
       "4     as5   amazon  movie         monster maker    giles foster   \n",
       "\n",
       "                                                cast         country  \\\n",
       "0     brendan gleeson, taylor kitsch, gordon pinsent          canada   \n",
       "1   mahesh manjrekar, abhay mahajan, sachin khedekar           india   \n",
       "2  tom sizemore, lorenzo lamas, robert lasardo, r...   united states   \n",
       "3  interviews with: pink, adele, beyoncé, britney...   united states   \n",
       "4  harry dean stanton, kieran o'brien, george cos...  united kingdom   \n",
       "\n",
       "   date_added  release_year clasificacion                listed_in  \\\n",
       "0  2021-03-30          2014             g            comedy, drama   \n",
       "1  2021-03-30          2018           13+     drama, international   \n",
       "2  2021-03-30          2017             g  action, drama, suspense   \n",
       "3  2021-03-30          2014             g              documentary   \n",
       "4  2021-03-30          1989             g           drama, fantasy   \n",
       "\n",
       "                                         description  duration_int  \\\n",
       "0  a small fishing village must procure a local d...           113   \n",
       "1  a metro family decides to fight a cyber crimin...           110   \n",
       "2  after a man discovers his wife is cheating on ...            74   \n",
       "3  pink breaks the mold once again, bringing her ...            69   \n",
       "4  teenage matt banting wants to work with a famo...            45   \n",
       "\n",
       "  duration_type  rating  \n",
       "0           min     3.5  \n",
       "1           min     3.5  \n",
       "2           min     3.5  \n",
       "3           min     3.5  \n",
       "4           min     3.5  "
      ]
     },
     "execution_count": 2,
     "metadata": {},
     "output_type": "execute_result"
    }
   ],
   "source": [
    "films = pd.read_csv('./datasets/films.csv')\n",
    "films.head()"
   ]
  },
  {
   "attachments": {},
   "cell_type": "markdown",
   "metadata": {},
   "source": [
    "### Clase"
   ]
  },
  {
   "cell_type": "code",
   "execution_count": 3,
   "metadata": {},
   "outputs": [],
   "source": [
    "class Peliculas:\n",
    "    '''\n",
    "    Esta clase tiene como objetivo definir las funciones de filtros del dataframe, de tal manera que permitirá aplicar los filtros\n",
    "    en las funciones posteriores. Asimismo contempla casos en los que no se cumpla con los criterios con los que cuenta el dataframe\n",
    "    por ejemplo que se elija un año que no se encuentre entre 1920 y 2021 que son los que tenemos, o alguna plataforma que no se encuentre\n",
    "    dentro de las que tenemos disponibles.\n",
    "    '''\n",
    "    def __init__(self,df):\n",
    "        self.df = df\n",
    "\n",
    "    #Función para filtrar por año\n",
    "    def year_filter(self,year):\n",
    "        self.year = year\n",
    "        if self.year < 1920: #Validamos si el parámetro ingresado es menor a 1920\n",
    "            return ('No contamos con películas anteriores a 1920.')\n",
    "        elif self.year > 2021: #Validamos si el parámetro ingresado es menor a 1920\n",
    "            return ('No contamos con películas posteriores a 2021.')\n",
    "        else:\n",
    "            return self.df[self.df['release_year']==self.year] #Realizamos el filtro de todo el DF a partir del año ingresado\n",
    "\n",
    "    #Función para filtrar por plataforma\n",
    "    def platform_filter(self,platform):\n",
    "        self.platform = platform\n",
    "        if self.platform=='amazon' or self.platform=='disney' or self.platform=='hulu' or self.platform=='netflix': \n",
    "            return self.df[self.df['platform']==self.platform] #Realizamos el filtro a todo el DF a partir de la plataforma\n",
    "        else:\n",
    "            return (\"Revisa que hayas escrito de manera correcta la plataforma solicitada. Las opciones son: 'amazon', 'disney', 'hulu', 'netflix'\")\n",
    "    \n",
    "    #función para filtrar por tipo de duración\n",
    "    def duration_filter(self,duration):\n",
    "        self.duration = duration\n",
    "        if self.duration == 'minutos': #Validamos si se pidieron películas cuya duración está en minutos\n",
    "            self.duration = 'min'    \n",
    "        elif self.duration=='temporadas': #Validamos si se pidieron películas cuya duración está en temporadas\n",
    "            self.duration = 'season'\n",
    "        else:\n",
    "            return (\"No se ha seleccionado un criterio de tiempo adecuado. Las opciones son: 'minutos' o 'temporadas\")\n",
    "        return self.df[self.df['duration_type']==self.duration] #Filtramos por tipo de duración"
   ]
  },
  {
   "attachments": {},
   "cell_type": "markdown",
   "metadata": {},
   "source": [
    "### 1 Funcion get_max_duration"
   ]
  },
  {
   "cell_type": "code",
   "execution_count": 4,
   "metadata": {},
   "outputs": [],
   "source": [
    "def get_max_duration(year, platform, duration_type):    \n",
    "    '''\n",
    "    Esta función encuentra la película o serie con mayor duración que cumpla con los filtros seleccionados.\n",
    "    Args:\n",
    "        year: variable tipo integer que hace referencia al año en que se realizó la película.\n",
    "        platform: variable tipo string que hace referencia a la plataforma de streaming en la que se encuentra la película.\n",
    "        duration_type: variable tipo string que hace referencia a la unidad de medida ya sea minutos (min) o temporadas(season).\n",
    "    Returns:\n",
    "        Un string con el título de la película y los criterios seleccionados.\n",
    "    '''\n",
    "    #Validamos el parámetro año(year)\n",
    "    if year == 0: #Si es 0 no aplicamos filtro\n",
    "        filtroanio = films\n",
    "    else:\n",
    "        filtroanio = Peliculas(films) #Instanciamos el DF con la clase Peliculas\n",
    "        filtroanio = filtroanio.year_filter(year) #Aplicamos la función de filtrar por año\n",
    "        if type(filtroanio) == str: return filtroanio #Validamos si se ingresó un valor correcto, de lo contrario regresamos un mensaje\n",
    "    \n",
    "    #Validamos el parámetro plataforma (platform)\n",
    "    if platform == 'none':\n",
    "        filtroplat = filtroanio #Si no hay parámetro ocupamos el DF previamente filtrado.\n",
    "    else:\n",
    "        filtroplat = Peliculas(filtroanio) #Instanciamos el DF filtrado con la clase Peliculas.\n",
    "        filtroplat = filtroplat.platform_filter(platform) #Aplicamos la función de filtrar por plataforma.\n",
    "        if type(filtroplat) == str: return filtroplat #Validamos si se ingresó un valor correcto, de lo contrario regresamos un mensaje\n",
    "\n",
    "    #Validamos el parámetro tipo de duración (durationi_type)\n",
    "    if duration_type == 'none':\n",
    "        filtroduration = filtroplat\n",
    "    else:\n",
    "        filtroduration = Peliculas(filtroplat) #Intanciamos el df para aplicarle el filtro\n",
    "        filtroduration = filtroduration.duration_filter(duration_type) #Aplciamos la función de filtrar por tipo de duración\n",
    "        if type(filtroduration) == str: return filtroduration #Validamos si se ingresó un valor correcto, de lo contrario regresamos un mensaje\n",
    "\n",
    "    duration_max = filtroduration['duration_int'].max() #Identificamos el valor máximo del DF filtrado\n",
    "    title_movie = filtroduration.loc[filtroduration['duration_int']==duration_max, 'title'].iloc[0]   #Extraemos el valor máximo de duración y regresamos el titulo\n",
    "    return {\"El titulo con mayor duración es\": title_movie}"
   ]
  },
  {
   "cell_type": "code",
   "execution_count": 5,
   "metadata": {},
   "outputs": [
    {
     "data": {
      "text/plain": [
       "{'El titulo con mayor duración es': 'carmel beach waves for sleep'}"
      ]
     },
     "execution_count": 5,
     "metadata": {},
     "output_type": "execute_result"
    }
   ],
   "source": [
    "get_max_duration(2015,\"amazon\",\"minutos\")"
   ]
  },
  {
   "attachments": {},
   "cell_type": "markdown",
   "metadata": {},
   "source": [
    "### 2 Función get_score_count"
   ]
  },
  {
   "cell_type": "code",
   "execution_count": 7,
   "metadata": {},
   "outputs": [],
   "source": [
    "def get_score_count(platform, scored, year):        \n",
    "    '''\n",
    "    Esta función cuenta la cantidad de películas que tienen un puntaje superior al indicado como parámetro de la función.\n",
    "    Args:\n",
    "        scored: variable tipo float (obligatorio) para determinar el puntaje con el que deben cumplir las peliculas para ser contabilizadas\n",
    "        platform: variable tipo string que hace referencia a la plataforma de streaming en la que se encuentra la película\n",
    "        year: variable tipo integer que hace referencia al año en que se realizó la película.\n",
    "    Returns:\n",
    "        Un string con el numero de películas que cumplen con el puntaje seleccionado y la descripción de los filtros correspondientes.\n",
    "    '''\n",
    "\n",
    "    #Se utiliza el mismo método de filtro que en la primer función a través de la clase Peliculas    \n",
    "    if platform == 'none':\n",
    "        filtroplat = films\n",
    "    else:\n",
    "        filtroplat = Peliculas(films)\n",
    "        filtroplat = filtroplat.platform_filter(platform)\n",
    "        if type(filtroplat) == str: return filtroplat\n",
    "\n",
    "    #Se utiliza el mismo método de filtro que en la primer función a través de la clase Peliculas\n",
    "    if year == 0:\n",
    "        filtroanio = filtroplat\n",
    "    else:\n",
    "        filtroanio = Peliculas(filtroplat)\n",
    "        filtroanio = filtroanio.year_filter(year)\n",
    "        if type(filtroanio) == str: return filtroanio\n",
    "    \n",
    "    #Se filtra el df ya filtrado con el rating mayor al indicado\n",
    "    puntuacion = filtroanio[filtroanio[\"rating\"]>scored]\n",
    "    num_movies = puntuacion.shape[0] #Se identifica el tamaño y se extrae el número de filas que representa la cantidad de películas con los filtros aplicados.\n",
    "\n",
    "    return {f\"Cantidad de peliculas con puntaje mayor a {scored}\": num_movies}"
   ]
  },
  {
   "cell_type": "code",
   "execution_count": 8,
   "metadata": {},
   "outputs": [
    {
     "data": {
      "text/plain": [
       "{'Cantidad de peliculas con puntaje mayor a 2.5': 8}"
      ]
     },
     "execution_count": 8,
     "metadata": {},
     "output_type": "execute_result"
    }
   ],
   "source": [
    "get_score_count(\"hulu\",2.5,1988)"
   ]
  },
  {
   "attachments": {},
   "cell_type": "markdown",
   "metadata": {},
   "source": [
    "### 3 Funcion get_count_platform"
   ]
  },
  {
   "cell_type": "code",
   "execution_count": 9,
   "metadata": {},
   "outputs": [],
   "source": [
    "def get_count_platform(platform:str):  \n",
    "    '''\n",
    "    Esta función cuenta la cantidad de películas existentes en cada plataforma o las 4 en conjunto si no se indica el parametro de platform.\n",
    "    Args:\n",
    "        platform: variable tipo string (opcional) para determinar el filtro de la plataforma de la cual se quieren contar las peliculas\n",
    "    Return:\n",
    "        Un string con la cantidad de películas encontradas y el detalle del filtro aplicado.\n",
    "    '''\n",
    "    #Se aplica el mismo filtro que las funciones anteriores.  \n",
    "    if platform == 'none':\n",
    "        filtroplat = films\n",
    "    else:\n",
    "        filtroplat = Peliculas(films)\n",
    "        filtroplat = filtroplat.platform_filter(platform)\n",
    "        if type(filtroplat) == str: return filtroplat\n",
    "\n",
    "    #Ya filtrado el DF se selecciona el indice cero del tamaño, que indica el numero de filas o registros con los filtros aplicados.\n",
    "    movies = filtroplat.shape[0]\n",
    "\n",
    "    return {\"Cantidad de películas\": movies}"
   ]
  },
  {
   "cell_type": "code",
   "execution_count": 10,
   "metadata": {},
   "outputs": [
    {
     "data": {
      "text/plain": [
       "{'Cantidad de películas': 8807}"
      ]
     },
     "execution_count": 10,
     "metadata": {},
     "output_type": "execute_result"
    }
   ],
   "source": [
    "get_count_platform(\"netflix\")"
   ]
  },
  {
   "attachments": {},
   "cell_type": "markdown",
   "metadata": {},
   "source": [
    "### 4 get_actor"
   ]
  },
  {
   "cell_type": "code",
   "execution_count": 11,
   "metadata": {},
   "outputs": [],
   "source": [
    "def get_actor(platform, year):\n",
    "    '''\n",
    "    Esta función separa la columna 'cast' que contiene a los actores y cuenta las veces que se repite cada actor\n",
    "    Args:\n",
    "        platform: variable tipo string que hace referencia a la plataforma de streaming en la que se encuentra la película\n",
    "        year: variable tipo integer que hace referencia al año en que se realizó la película.\n",
    "    Returns:\n",
    "        Un string con el dato del actor que más veces se repite con base en los filtros solicitados.\n",
    "    '''\n",
    "    #Se aplica el mismo filtro que las funciones anteriores. \n",
    "    if platform == 'none':\n",
    "        filtroplat = films\n",
    "    else:\n",
    "        filtroplat = Peliculas(films)\n",
    "        filtroplat = filtroplat.platform_filter(platform)\n",
    "        if type(filtroplat) == str: return filtroplat\n",
    "\n",
    "    #Se aplica el mismo filtro que las funciones anteriores. \n",
    "    if year == 0:\n",
    "        filtroanio = filtroplat\n",
    "    else:\n",
    "        filtroanio = Peliculas(filtroplat)\n",
    "        filtroanio = filtroanio.year_filter(year)\n",
    "        if type(filtroanio) == str: return filtroanio\n",
    "\n",
    "\n",
    "    df_actors = filtroanio['cast'].str.split(',') #Separamos la columna de cast donde vienen todos los actores por título.\n",
    "    apariciones = df_actors.explode().value_counts()  #Contamos la cantidad de veces que aparece cada actor\n",
    "    actor_max_apar = apariciones.idxmax() #Identificamos el que más veces se repite\n",
    "    return {'El actor que más aparece es':actor_max_apar}"
   ]
  },
  {
   "cell_type": "code",
   "execution_count": 12,
   "metadata": {},
   "outputs": [
    {
     "data": {
      "text/plain": [
       "{'El actor que más aparece es': 'sam peltz'}"
      ]
     },
     "execution_count": 12,
     "metadata": {},
     "output_type": "execute_result"
    }
   ],
   "source": [
    "get_actor(\"disney\",2018)"
   ]
  }
 ],
 "metadata": {
  "kernelspec": {
   "display_name": "Python 3",
   "language": "python",
   "name": "python3"
  },
  "language_info": {
   "codemirror_mode": {
    "name": "ipython",
    "version": 3
   },
   "file_extension": ".py",
   "mimetype": "text/x-python",
   "name": "python",
   "nbconvert_exporter": "python",
   "pygments_lexer": "ipython3",
   "version": "3.11.1"
  },
  "orig_nbformat": 4,
  "vscode": {
   "interpreter": {
    "hash": "275c90bd5bb82664c788af040251692cc03dc86a881c38c70c21622899dbd0c4"
   }
  }
 },
 "nbformat": 4,
 "nbformat_minor": 2
}
