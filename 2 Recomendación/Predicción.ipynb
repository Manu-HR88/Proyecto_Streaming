{
 "cells": [
  {
   "cell_type": "code",
   "execution_count": 3,
   "metadata": {},
   "outputs": [],
   "source": [
    "import pandas as pd\n",
    "import numpy as np\n",
    "from surprise import Dataset\n",
    "from surprise import Reader\n",
    "from surprise.model_selection import train_test_split\n",
    "from surprise import SVD\n",
    "import gradio as gr"
   ]
  },
  {
   "cell_type": "code",
   "execution_count": 19,
   "metadata": {},
   "outputs": [],
   "source": [
    "# Este código es el resumen de lo explicado en el archivo \"Proceso ML\" para predecir.\n",
    "\n",
    "reader = Reader()\n",
    "df=pd.read_csv(\"datasets/ratings_ml.csv\")\n",
    "df_ratings = df.sort_values(by=\"userId\", ascending=True)\n",
    "titulos = pd.read_csv(\"datasets/titulos.csv\")\n",
    "num_filas= 100000\n",
    "data = Dataset.load_from_df(df_ratings[[\"userId\",\"IdMovie\",\"rating\"]][:num_filas],reader)\n",
    "trainset, testset = train_test_split(data, test_size=.25)\n",
    "model = SVD()\n",
    "model.fit(trainset)\n",
    "prediction=model.test(testset)"
   ]
  },
  {
   "cell_type": "code",
   "execution_count": 20,
   "metadata": {},
   "outputs": [
    {
     "name": "stdout",
     "output_type": "stream",
     "text": [
      "Running on local URL:  http://127.0.0.1:7863\n",
      "\n",
      "To create a public link, set `share=True` in `launch()`.\n"
     ]
    },
    {
     "data": {
      "text/html": [
       "<div><iframe src=\"http://127.0.0.1:7863/\" width=\"100%\" height=\"500\" allow=\"autoplay; camera; microphone; clipboard-read; clipboard-write;\" frameborder=\"0\" allowfullscreen></iframe></div>"
      ],
      "text/plain": [
       "<IPython.core.display.HTML object>"
      ]
     },
     "metadata": {},
     "output_type": "display_data"
    },
    {
     "data": {
      "text/plain": []
     },
     "execution_count": 20,
     "metadata": {},
     "output_type": "execute_result"
    }
   ],
   "source": [
    "def recomendacion(usuario, movie):\n",
    "    '''\n",
    "    Esta función aplica el modelo predictivo a un usario específco con respecto a una película específica.\n",
    "    Args:\n",
    "        usario: variable tipo entero que refiere al id del usuario que se quiere buscar.\n",
    "        movie: variabele tipo entero que refiere al id de la película que se quiere predecir.\n",
    "    Returns:\n",
    "        Un string que valida si la película se recomienda dentro del topten de sugerencias para el usuario.\n",
    "    '''\n",
    "    #Aseguramos el tipo de dato que requerimos.\n",
    "    usuario = int(usuario)\n",
    "    movie = int(movie)\n",
    "    #filtramos de las bases si el usario y la película se encuentran en las bases que tenemos.\n",
    "    validacion_usuario = df_ratings[df_ratings[\"userId\"] == usuario]\n",
    "    validacion_movie = titulos[titulos[\"IdMovie\"]==movie]\n",
    "        \n",
    "    if validacion_usuario.shape[0] > 0: #validamos si se encuentra al menos un registro del id de usuario\n",
    "        validacion_usuario = True\n",
    "    else: return f\"El usuario con id {usuario} no se encuentra disponible\"\n",
    "\n",
    "    if validacion_movie.shape[0] > 0: #validamos si se encuentra al menos un registro del id de la pelicula\n",
    "        validacion_movie = True\n",
    "    else: return f\"La pelicula con id {movie} no existe en el catálogo\"\n",
    "\n",
    "    #Filtramos la recomendación contemplando que el usuario haya puntuado con al menos 4 puntos\n",
    "    df_usuario = df_ratings[(df_ratings['userId']==usuario)&(df_ratings['rating']>=4)]    \n",
    "    df_usuario = df_usuario.reset_index(drop=True)\n",
    "    df_usuario['Titulo'] = titulos['title'].loc[df_usuario.IdMovie].values\n",
    "\n",
    "    # Copiamos los titulos en otra variable para que no se afecte el dataframe original de titulos\n",
    "    recomendaciones = titulos.copy()\n",
    "\n",
    "    #Extraemos las peliculas que ya ha visto.\n",
    "    usuario_vistas = df_ratings[df_ratings['userId']== usuario]\n",
    "\n",
    "    #Eliminamos las que ya vio de las recomendaciones (los titulos)\n",
    "    recomendaciones.drop(usuario_vistas.IdMovie, inplace=True)  \n",
    "\n",
    "    #Realizamos las recomendaciones\n",
    "    recomendaciones['Puntaje_Estimado']=recomendaciones['IdMovie'].apply(lambda x: model.predict(usuario,x).est)\n",
    "\n",
    "    #Ordenamos las puntuaciones de mayor a menor\n",
    "    recomendaciones = recomendaciones.sort_values('Puntaje_Estimado', ascending = False)\n",
    "\n",
    "    #Nos quedamos con el topten\n",
    "    df_recom = recomendaciones.head(10)\n",
    "\n",
    "    #Contamos las veces que el Id de la película solicitada esté en el topten\n",
    "    recom = df_recom[(df_recom[\"IdMovie\"]==movie)]\n",
    "\n",
    "    #Validamos si encontramos el registro y devolvemos el string que corresponda.\n",
    "    if recom.shape[0] > 0: \n",
    "        return f\"SÍ se recomienda la pelicula con id {movie} para el usuario {usuario}\"\n",
    "    else:   \n",
    "        return f\"NO se recomienda la pelicula con id {movie} para el usuario {usuario}\"\n",
    "\n",
    "# Hacemos el deploy local\n",
    "demo = gr.Interface(fn=recomendacion, inputs=[\"text\", \"text\"], outputs=\"text\")\n",
    "demo.launch()\n"
   ]
  },
  {
   "cell_type": "code",
   "execution_count": 21,
   "metadata": {},
   "outputs": [],
   "source": [
    "user_test = 583"
   ]
  },
  {
   "cell_type": "code",
   "execution_count": 22,
   "metadata": {},
   "outputs": [],
   "source": [
    "def recomendacion_valid(usuario):\n",
    "    validacion_usuario = df_ratings[df_ratings[\"userId\"] == usuario]\n",
    "        \n",
    "    if validacion_usuario.shape[0] > 0:\n",
    "        validacion_usuario = True\n",
    "    else: return f\"El usuario con id {usuario} no se encuentra disponible\"\n",
    "\n",
    "    df_usuario = df_ratings[(df_ratings['userId']==usuario)&(df_ratings['rating']>=4)]    \n",
    "    df_usuario = df_usuario.reset_index(drop=True)\n",
    "    df_usuario['Titulo'] = titulos['title'].loc[df_usuario.IdMovie].values\n",
    "\n",
    "    # Copiamos los titulos en otra variable para que no se afecte el dataframe original de titulos\n",
    "    recomendaciones = titulos.copy()\n",
    "\n",
    "    #Extraemos las peliculas que ya ha visto.\n",
    "    usuario_vistas = df_ratings[df_ratings['userId']== usuario]\n",
    " \n",
    "    #Eliminamos las que ya vio de las recomendaciones (los titulos)\n",
    "    recomendaciones.drop(usuario_vistas.IdMovie, inplace=True)  \n",
    "\n",
    "    #Realizamos las recomendaciones\n",
    "    recomendaciones['Puntaje_Estimado']=recomendaciones['IdMovie'].apply(lambda x: model.predict(usuario,x).est)\n",
    "\n",
    "    recomendaciones = recomendaciones.sort_values('Puntaje_Estimado', ascending = False)\n",
    "\n",
    "    df_recom = recomendaciones.head(10)\n",
    "\n",
    "    return df_recom"
   ]
  },
  {
   "cell_type": "code",
   "execution_count": 14,
   "metadata": {},
   "outputs": [
    {
     "data": {
      "text/html": [
       "<div>\n",
       "<style scoped>\n",
       "    .dataframe tbody tr th:only-of-type {\n",
       "        vertical-align: middle;\n",
       "    }\n",
       "\n",
       "    .dataframe tbody tr th {\n",
       "        vertical-align: top;\n",
       "    }\n",
       "\n",
       "    .dataframe thead th {\n",
       "        text-align: right;\n",
       "    }\n",
       "</style>\n",
       "<table border=\"1\" class=\"dataframe\">\n",
       "  <thead>\n",
       "    <tr style=\"text-align: right;\">\n",
       "      <th></th>\n",
       "      <th>IdMovie</th>\n",
       "      <th>title</th>\n",
       "      <th>Puntaje_Estimado</th>\n",
       "    </tr>\n",
       "  </thead>\n",
       "  <tbody>\n",
       "    <tr>\n",
       "      <th>11296</th>\n",
       "      <td>9741</td>\n",
       "      <td>the simpsons</td>\n",
       "      <td>4.768065</td>\n",
       "    </tr>\n",
       "    <tr>\n",
       "      <th>9760</th>\n",
       "      <td>9741</td>\n",
       "      <td>the simpsons</td>\n",
       "      <td>4.768065</td>\n",
       "    </tr>\n",
       "    <tr>\n",
       "      <th>4816</th>\n",
       "      <td>4809</td>\n",
       "      <td>100 days to live</td>\n",
       "      <td>4.760185</td>\n",
       "    </tr>\n",
       "    <tr>\n",
       "      <th>17725</th>\n",
       "      <td>17182</td>\n",
       "      <td>the spy</td>\n",
       "      <td>4.714671</td>\n",
       "    </tr>\n",
       "    <tr>\n",
       "      <th>8231</th>\n",
       "      <td>8220</td>\n",
       "      <td>the wheel of time</td>\n",
       "      <td>4.688852</td>\n",
       "    </tr>\n",
       "    <tr>\n",
       "      <th>15077</th>\n",
       "      <td>14702</td>\n",
       "      <td>the mystic river</td>\n",
       "      <td>4.681753</td>\n",
       "    </tr>\n",
       "    <tr>\n",
       "      <th>11493</th>\n",
       "      <td>11428</td>\n",
       "      <td>women's college soccer</td>\n",
       "      <td>4.635474</td>\n",
       "    </tr>\n",
       "    <tr>\n",
       "      <th>9151</th>\n",
       "      <td>9137</td>\n",
       "      <td>man from del rio</td>\n",
       "      <td>4.621291</td>\n",
       "    </tr>\n",
       "    <tr>\n",
       "      <th>20396</th>\n",
       "      <td>19724</td>\n",
       "      <td>babel</td>\n",
       "      <td>4.620835</td>\n",
       "    </tr>\n",
       "    <tr>\n",
       "      <th>9440</th>\n",
       "      <td>9424</td>\n",
       "      <td>nicholas nickleby</td>\n",
       "      <td>4.617103</td>\n",
       "    </tr>\n",
       "  </tbody>\n",
       "</table>\n",
       "</div>"
      ],
      "text/plain": [
       "       IdMovie                   title  Puntaje_Estimado\n",
       "11296     9741            the simpsons          4.768065\n",
       "9760      9741            the simpsons          4.768065\n",
       "4816      4809        100 days to live          4.760185\n",
       "17725    17182                 the spy          4.714671\n",
       "8231      8220       the wheel of time          4.688852\n",
       "15077    14702        the mystic river          4.681753\n",
       "11493    11428  women's college soccer          4.635474\n",
       "9151      9137        man from del rio          4.621291\n",
       "20396    19724                   babel          4.620835\n",
       "9440      9424       nicholas nickleby          4.617103"
      ]
     },
     "execution_count": 14,
     "metadata": {},
     "output_type": "execute_result"
    }
   ],
   "source": [
    "recomendacion_valid(user_test)"
   ]
  },
  {
   "cell_type": "code",
   "execution_count": 18,
   "metadata": {},
   "outputs": [
    {
     "data": {
      "text/plain": [
       "pandas.core.frame.DataFrame"
      ]
     },
     "execution_count": 18,
     "metadata": {},
     "output_type": "execute_result"
    }
   ],
   "source": [
    "prueba = titulos.head()\n",
    "type(prueba)"
   ]
  }
 ],
 "metadata": {
  "kernelspec": {
   "display_name": "Python 3",
   "language": "python",
   "name": "python3"
  },
  "language_info": {
   "codemirror_mode": {
    "name": "ipython",
    "version": 3
   },
   "file_extension": ".py",
   "mimetype": "text/x-python",
   "name": "python",
   "nbconvert_exporter": "python",
   "pygments_lexer": "ipython3",
   "version": "3.11.1"
  },
  "orig_nbformat": 4,
  "vscode": {
   "interpreter": {
    "hash": "275c90bd5bb82664c788af040251692cc03dc86a881c38c70c21622899dbd0c4"
   }
  }
 },
 "nbformat": 4,
 "nbformat_minor": 2
}
